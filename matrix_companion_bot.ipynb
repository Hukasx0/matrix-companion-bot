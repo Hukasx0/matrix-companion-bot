{
 "cells": [
  {
   "cell_type": "code",
   "execution_count": null,
   "id": "09f2fd7b",
   "metadata": {
    "scrolled": true
   },
   "outputs": [],
   "source": [
    "import sys\n",
    "!{sys.executable} -m pip install requests\n",
    "!{sys.executable} -m pip install simplematrixbotlib\n",
    "!{sys.executable} -m pip install \"matrix-nio[e2e]\"\n",
    "import nest_asyncio\n",
    "nest_asyncio.apply()"
   ]
  },
  {
   "cell_type": "code",
   "execution_count": null,
   "id": "0213e61a",
   "metadata": {},
   "outputs": [],
   "source": [
    "import simplematrixbotlib as botlib\n",
    "import os\n",
    "import requests\n",
    "import json"
   ]
  },
  {
   "cell_type": "code",
   "execution_count": null,
   "id": "ab83b031",
   "metadata": {},
   "outputs": [],
   "source": [
    "config = botlib.Config()\n",
    "config.encryption_enabled = True\n",
    "config.emoji_verify = True\n",
    "config.ignore_unverified_devices = True\n",
    "config.store_path = './crypto_store/'"
   ]
  },
  {
   "cell_type": "code",
   "execution_count": null,
   "id": "fa0b17ce",
   "metadata": {},
   "outputs": [],
   "source": [
    "MATRIX_HOMESERVER = \"https://matrix-client.matrix.org\"   # change this if needed \n",
    "BOT_ACCOUNT_LOGIN = \"BOT_ACCOUNT_LOGIN\"                  # change this to bot account login \n",
    "BOT_ACCOUNT_PASSWORD = \"BOT_ACCOUNT_PASSWORD\"            # change this to bot account password "
   ]
  },
  {
   "cell_type": "code",
   "execution_count": null,
   "id": "52d63f5e",
   "metadata": {},
   "outputs": [],
   "source": [
    "creds = botlib.Creds(MATRIX_HOMESERVER, BOT_ACCOUNT_LOGIN, BOT_ACCOUNT_PASSWORD)\n",
    "bot = botlib.Bot(creds, config)"
   ]
  },
  {
   "cell_type": "code",
   "execution_count": null,
   "id": "4a58980f",
   "metadata": {},
   "outputs": [],
   "source": [
    "if os.environ.get('DOCKER_ENV') == 'true':\n",
    "    companion_host = 'host.docker.internal'\n",
    "else:\n",
    "    companion_host = 'localhost'\n",
    "\n",
    "\n",
    "ai_companion_server = f\"http://{companion_host}:3000\"\n",
    "\n",
    "BOT_NAME = \"ai\"\n",
    "BOT_PERSONA = \"ai is a artificial intelligence chatbot chatting with user\"\n",
    "FIRST_MESSAGE = \"Hello user!\""
   ]
  },
  {
   "cell_type": "code",
   "execution_count": null,
   "id": "f8ded94b",
   "metadata": {},
   "outputs": [],
   "source": [
    "def ai_config():\n",
    "    companionData = {\n",
    "        \"id\": 0,\n",
    "        \"name\": BOT_NAME,\n",
    "        \"persona\": BOT_PERSONA,\n",
    "        \"first_message\": FIRST_MESSAGE\n",
    "    }\n",
    "    response = requests.post(ai_companion_server+\"/api/change/companionData\",\n",
    "                            json=companionData)\n",
    "def ai_prompt(text):\n",
    "    response = requests.post(ai_companion_server+\"/api/prompt\",\n",
    "                            json={ \"prompt\": text })\n",
    "    if response.status_code == 200:\n",
    "        response_json = response.json()\n",
    "        return response_json[\"text\"]"
   ]
  },
  {
   "cell_type": "code",
   "execution_count": null,
   "id": "7f153fdf",
   "metadata": {},
   "outputs": [],
   "source": [
    "@bot.listener.on_message_event\n",
    "async def echo(room, message):\n",
    "    match = botlib.MessageMatch(room, message, bot)\n",
    "    if match.is_not_from_this_bot():\n",
    "        await bot.api.send_text_message(room.room_id, ai_prompt(message.body))"
   ]
  },
  {
   "cell_type": "code",
   "execution_count": null,
   "id": "6b9e1812",
   "metadata": {},
   "outputs": [],
   "source": [
    "if __name__ == \"__main__\":\n",
    "    ai_config()\n",
    "    bot.run()"
   ]
  }
 ],
 "metadata": {
  "kernelspec": {
   "display_name": "Python 3 (ipykernel)",
   "language": "python",
   "name": "python3"
  },
  "language_info": {
   "codemirror_mode": {
    "name": "ipython",
    "version": 3
   },
   "file_extension": ".py",
   "mimetype": "text/x-python",
   "name": "python",
   "nbconvert_exporter": "python",
   "pygments_lexer": "ipython3",
   "version": "3.9.5"
  }
 },
 "nbformat": 4,
 "nbformat_minor": 5
}
